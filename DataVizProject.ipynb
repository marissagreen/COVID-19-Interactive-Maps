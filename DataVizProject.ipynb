{
 "cells": [
  {
   "cell_type": "code",
   "execution_count": 1,
   "metadata": {},
   "outputs": [
    {
     "data": {
      "text/plain": [
       "'\\nHelen Salgi <hvs278>\\nMarissa Green <mdg3554>\\n'"
      ]
     },
     "execution_count": 1,
     "metadata": {},
     "output_type": "execute_result"
    }
   ],
   "source": [
    "\"\"\"\n",
    "Helen Salgi <hvs278>\n",
    "Marissa Green <mdg3554>\n",
    "\"\"\""
   ]
  },
  {
   "cell_type": "code",
   "execution_count": 2,
   "metadata": {},
   "outputs": [],
   "source": [
    "import pandas as pd # To create dataframe\n",
    "import plotly.graph_objects as go # To create graph object\n",
    "import math # To scale bubbles"
   ]
  },
  {
   "cell_type": "code",
   "execution_count": 3,
   "metadata": {},
   "outputs": [],
   "source": [
    "# Read in the file. Source: https://coronavirus-resources.esri.com/datasets/628578697fb24d8ea4c32fa0c5ae1843_0?geometry=163.377%2C22.406%2C-30.861%2C64.233&showData=true\n",
    "csv = pd.read_csv(\"COVID19_Cases_US.csv\")\n",
    "# Convert the csv to a workable dataframe \n",
    "df = pd.DataFrame(csv)\n",
    "\n",
    "# Check for type consistency, so filter out any incorrect negative values\n",
    "df_filtered = df[df[\"Active\"] >= 0]"
   ]
  },
  {
   "cell_type": "code",
   "execution_count": 4,
   "metadata": {
    "scrolled": false
   },
   "outputs": [
    {
     "data": {
      "text/html": [
       "<iframe\n",
       "    scrolling=\"no\"\n",
       "    width=\"100%\"\n",
       "    height=\"545px\"\n",
       "    src=\"iframe_figures/figure_0.html?fullscreen=kiosk\"\n",
       "    frameborder=\"0\"\n",
       "    allowfullscreen\n",
       "></iframe>\n"
      ]
     },
     "metadata": {},
     "output_type": "display_data"
    }
   ],
   "source": [
    "def confirmed_cases():\n",
    "    \n",
    "    # Legend coloring and bubble scaling (separate the range into four subranges)\n",
    "    confirmed_limits = [(0, 717), (718, 1434), (1435, 2151), (2152, 2869)]\n",
    "    colors = [\"#EED2EE\", \"#CD96CD\", \"#9F5F9F\", \"#4F2F4F\"] # Gradients to work with continous dataset \n",
    "    \n",
    "    # Remove unneccessary columns\n",
    "    df_confirmed = df_filtered.drop(['X', 'Y', 'Province_State', \n",
    "                                'Country_Region', 'Last_Update', \n",
    "                                'Recovered', 'Deaths', 'Active', 'Admin2', \n",
    "                                'FIPS', 'Incident_Rate', 'People_Tested', \n",
    "                                'People_Hospitalized', 'UID', 'ISO3'], axis = 1)\n",
    "    \n",
    "    # Sort the dataframe from lowest to greatest confirmed cases\n",
    "    sort_by_confirmed = df_confirmed.sort_values(by=['Confirmed'])\n",
    "    \n",
    "    # Create a list of locations to use in the map later\n",
    "    locations = []\n",
    "    for location in sort_by_confirmed['Combined_Key']:\n",
    "        locations.append(location)\n",
    "    \n",
    "    # Create graph object\n",
    "    fig_confirmed = go.Figure()\n",
    "    for i in range(len(confirmed_limits)):\n",
    "        lim = confirmed_limits[i] # Particular subrange using\n",
    "        df_subset = sort_by_confirmed[lim[0]:lim[1]] # Get only the rows for the particular subrange\n",
    "        fig_confirmed.add_trace(go.Scattergeo(\n",
    "                    \n",
    "                    locationmode = 'USA-states',\n",
    "                    lon = df_subset['Long_'],\n",
    "                    lat = df_subset['Lat'],\n",
    "            \n",
    "                    # Create the text to interact with on each bubble\n",
    "                    customdata = df_subset['Confirmed'],\n",
    "                    text = locations,\n",
    "                    hovertemplate = 'Location: %{text} <br>Confirmed Cases: %{customdata}',\n",
    "            \n",
    "                    # Create each bubble\n",
    "                    marker = dict(\n",
    "                        size = df_subset['Confirmed'].apply(math.sqrt), # Scale bubbles for better visualization \n",
    "                        color = colors[i], # Color of bubbles\n",
    "                        line_color = 'rgb(40, 40, 40)', # Outline color of bubbles\n",
    "                        line_width = 0.2,\n",
    "                        sizemode = 'area'),\n",
    "                    \n",
    "                    # Create legend\n",
    "                    name = str(df_subset.iloc[0]['Confirmed']) + ' - ' + str(df_subset.iloc[len(df_subset)-1]['Confirmed']) + ' Confirmed Cases'))\n",
    "\n",
    "    fig_confirmed.update_layout(\n",
    "        title_text = 'Number of COVID-19 Confirmed Cases in U.S. as of April 27, 2020',\n",
    "        showlegend = True,\n",
    "        geo = dict(\n",
    "            scope = 'usa',\n",
    "            landcolor = 'rgb(217, 217, 217)'))\n",
    "\n",
    "    fig_confirmed.show()\n",
    "\n",
    "confirmed_cases()"
   ]
  },
  {
   "cell_type": "code",
   "execution_count": 6,
   "metadata": {},
   "outputs": [
    {
     "data": {
      "text/html": [
       "<iframe\n",
       "    scrolling=\"no\"\n",
       "    width=\"100%\"\n",
       "    height=\"545px\"\n",
       "    src=\"iframe_figures/figure_1.html?fullscreen=kiosk\"\n",
       "    frameborder=\"0\"\n",
       "    allowfullscreen\n",
       "></iframe>\n"
      ]
     },
     "metadata": {},
     "output_type": "display_data"
    }
   ],
   "source": [
    "def deaths():\n",
    "    \n",
    "    # Legend coloring and bubble scaling (separate the range into three subranges)\n",
    "    death_limits = [(0, 1490), (1491, 2186), (2187, 2869)]\n",
    "    colors = [ \"#f4c2c2\", \"#FF0000\", \"#800000\"]\n",
    "    \n",
    "    # Remove unneccessary columns\n",
    "    df_deaths = df_filtered.drop(['X', 'Y', 'Province_State', \n",
    "                                'Country_Region', 'Last_Update', \n",
    "                                'Recovered', 'Confirmed', 'Active', 'Admin2', \n",
    "                                'FIPS', 'Incident_Rate', 'People_Tested', \n",
    "                                'People_Hospitalized', 'UID', 'ISO3'], axis = 1)\n",
    "    \n",
    "    # Sort the dataframe from least to greatest deaths\n",
    "    sort_by_deaths = df_deaths.sort_values(by=['Deaths'])\n",
    "    \n",
    "    # Create a list of locations to use in the map later\n",
    "    locations = []\n",
    "    for location in sort_by_deaths[\"Combined_Key\"]:\n",
    "        locations.append(location)\n",
    "    \n",
    "    # Create a graph object\n",
    "    fig_deaths = go.Figure()\n",
    "    for i in range(len(death_limits)):\n",
    "        lim = death_limits[i] # Particular subrange using\n",
    "        df_subset = sort_by_deaths[lim[0]:lim[1]] # Get only the rows for the particular subrange\n",
    "        fig_deaths.add_trace(go.Scattergeo(\n",
    "                    locationmode = 'USA-states',\n",
    "                    lon = df_subset['Long_'],\n",
    "                    lat = df_subset['Lat'],\n",
    "            \n",
    "                    # Create the text to interact with on each bubble\n",
    "                    customdata = df_subset[\"Deaths\"],\n",
    "                    text = locations,\n",
    "                    hovertemplate = \"Location: %{text} <br>Deaths: %{customdata}\",\n",
    "                    \n",
    "                    # Create each bubble\n",
    "                    marker = dict(\n",
    "                        size = df_subset[\"Deaths\"].apply(math.sqrt), # Scale bubbles for better visualization \n",
    "                        color = colors[i], # Color of bubbles\n",
    "                        line_color = \"rgb(40, 40, 40)\", # Outline color of bubbles\n",
    "                        line_width = 0.2,\n",
    "                        sizemode = 'area'),\n",
    "            \n",
    "                    # Create legend\n",
    "                    name = str(df_subset.iloc[0]['Deaths']) + \" - \" + str(df_subset.iloc[len(df_subset)-1]['Deaths']) + \" Deaths\"))\n",
    "\n",
    "    fig_deaths.update_layout(\n",
    "        title_text = \"Number of COVID-19 Deaths in U.S. as of April 27, 2020\",\n",
    "        showlegend = True,\n",
    "        geo = dict(\n",
    "            scope = 'usa',\n",
    "            landcolor = 'rgb(217, 217, 217)'))  \n",
    "    \n",
    "    fig_deaths.show()\n",
    "\n",
    "deaths()"
   ]
  },
  {
   "cell_type": "code",
   "execution_count": 7,
   "metadata": {
    "scrolled": true
   },
   "outputs": [
    {
     "data": {
      "text/html": [
       "<iframe\n",
       "    scrolling=\"no\"\n",
       "    width=\"100%\"\n",
       "    height=\"545px\"\n",
       "    src=\"iframe_figures/figure_2.html?fullscreen=kiosk\"\n",
       "    frameborder=\"0\"\n",
       "    allowfullscreen\n",
       "></iframe>\n"
      ]
     },
     "metadata": {},
     "output_type": "display_data"
    }
   ],
   "source": [
    "def active_cases():\n",
    "    \n",
    "    # Legend coloring and bubble scaling (separate the range into four subranges)\n",
    "    active_limits = [(0, 717), (718, 1434), (1435, 2151), (2152, 2869)]\n",
    "    colors = [\"#7ad7f0\", \"#2196f3\", \"#0f52ba\", \"#2234ae\"]\n",
    "    \n",
    "    # Remove unneccessary columns\n",
    "    df_active = df_filtered.drop(['X', 'Y', 'Province_State', \n",
    "                                'Country_Region', 'Last_Update', \n",
    "                                'Recovered', 'Deaths', 'Confirmed', 'Admin2', \n",
    "                                'FIPS', 'Incident_Rate', 'People_Tested', \n",
    "                                'People_Hospitalized', 'UID', 'ISO3'], axis = 1)\n",
    "    \n",
    "    # Sort the dataframe from least to greatest active cases\n",
    "    sort_by_active = df_active.sort_values(by=['Active'])\n",
    "    \n",
    "    # Create a list of locations to use in the map later\n",
    "    locations = []\n",
    "    for location in sort_by_active[\"Combined_Key\"]:\n",
    "        locations.append(location)\n",
    "    \n",
    "    # Create graph object\n",
    "    fig_active = go.Figure()\n",
    "    for i in range(len(active_limits)):\n",
    "        lim = active_limits[i] # Particular subrange using\n",
    "        df_subset = sort_by_active[lim[0]:lim[1]] # Get only the rows for the particular subrange\n",
    "        fig_active.add_trace(go.Scattergeo(\n",
    "                    locationmode = 'USA-states',\n",
    "                    lon = df_subset['Long_'],\n",
    "                    lat = df_subset['Lat'],\n",
    "                    \n",
    "                    # Create the text to interact with on each bubble\n",
    "                    customdata = df_subset[\"Active\"],\n",
    "                    text = locations,\n",
    "                    hovertemplate = \"Location: %{text} <br>Active Cases: %{customdata}\",\n",
    "                    \n",
    "                    # Create each bubble\n",
    "                    marker = dict(\n",
    "                        size = df_subset[\"Active\"].apply(math.sqrt), # Scale bubbles for better visualization \n",
    "                        color = colors[i], # Color of bubbles\n",
    "                        line_color = \"rgb(40, 40, 40)\", # Outline color of bubbles\n",
    "                        line_width = 0.2,\n",
    "                        sizemode = 'area'),\n",
    "            \n",
    "                    # Create legend\n",
    "                    name = str(df_subset.iloc[0]['Active']) + \" - \" + str(df_subset.iloc[len(df_subset)-1]['Active']) + \" Active Cases\"))\n",
    "\n",
    "    fig_active.update_layout(\n",
    "        title_text = \"Number of COVID-19 Active Cases in U.S. as of April 27, 2020\",\n",
    "        showlegend = True,\n",
    "        geo = dict(\n",
    "            scope = 'usa',\n",
    "            landcolor = 'rgb(217, 217, 217)'))\n",
    "    \n",
    "    fig_active.show()\n",
    "\n",
    "active_cases()"
   ]
  },
  {
   "cell_type": "code",
   "execution_count": 8,
   "metadata": {},
   "outputs": [
    {
     "data": {
      "text/html": [
       "<iframe\n",
       "    scrolling=\"no\"\n",
       "    width=\"100%\"\n",
       "    height=\"545px\"\n",
       "    src=\"iframe_figures/figure_3.html?fullscreen=kiosk\"\n",
       "    frameborder=\"0\"\n",
       "    allowfullscreen\n",
       "></iframe>\n"
      ]
     },
     "metadata": {},
     "output_type": "display_data"
    }
   ],
   "source": [
    "def incident_rates():\n",
    "    \n",
    "    # Legend coloring and bubble scaling (separate the range into four subranges)\n",
    "    incident_limits = [(0, 717), (718, 1434), (1435, 2151), (2152, 2810)]\n",
    "    colors = [ \"#fed8b1\", \"#ff872c\", \"#ffa500\", \"#ff7f00\"]\n",
    "    \n",
    "    \n",
    "    # Remove unneccessary columns\n",
    "    df_incident = df_filtered.drop(['X', 'Y', 'Province_State', \n",
    "                                'Country_Region', 'Last_Update', \n",
    "                                'Recovered', 'Deaths', 'Active', 'Admin2', \n",
    "                                'FIPS', 'Confirmed', 'People_Tested', \n",
    "                                'People_Hospitalized', 'UID', 'ISO3'], axis = 1)\n",
    "    \n",
    "\n",
    "    df_incident = df_incident[df_incident[\"Incident_Rate\"] != type(str)]\n",
    "    \n",
    "    # Sort the dataframe from least to greatest incident rates\n",
    "    sort_by_incident = df_incident.sort_values(by=['Incident_Rate'])\n",
    "    \n",
    "    \n",
    "    # Create a list of locations to use in the map later\n",
    "    locations = []\n",
    "    for location in sort_by_incident[\"Combined_Key\"]:\n",
    "        locations.append(location)\n",
    "    \n",
    "    # Create graph object\n",
    "    fig_incident = go.Figure()\n",
    "    for i in range(len(incident_limits)):\n",
    "        lim = incident_limits[i] # Particular subrange using\n",
    "        df_subset = sort_by_incident[lim[0]:lim[1]] # Get only the rows for the particular subrange\n",
    "        fig_incident.add_trace(go.Scattergeo(\n",
    "                    locationmode = 'USA-states',\n",
    "                    lon = df_subset['Long_'],\n",
    "                    lat = df_subset['Lat'],\n",
    "                    \n",
    "                    # Create the text to interact with on each bubble\n",
    "                    customdata = df_subset[\"Incident_Rate\"],\n",
    "                    text = locations,\n",
    "                    hovertemplate = \"Location: %{text} <br>Incident Rate: %{customdata}\",\n",
    "                    \n",
    "                    # Create each bubble\n",
    "                    marker = dict(\n",
    "                        size = df_subset[\"Incident_Rate\"].apply(math.sqrt), # Scale bubbles for better visualization \n",
    "                        color = colors[i], # Color of bubbles\n",
    "                        line_color = \"rgb(40, 40, 40)\", # Outline color of bubbles\n",
    "                        line_width = 0.2,\n",
    "                        sizemode = 'area'),\n",
    "                    \n",
    "                    # Create legend\n",
    "                    name = str(int(df_subset.iloc[0]['Incident_Rate'])) + \" - \" + str(int(df_subset.iloc[len(df_subset)-1]['Incident_Rate'])) + \" Incident Rates\"))\n",
    "\n",
    "    fig_incident.update_layout(\n",
    "        title_text = \"COVID-19 Incident Rates in U.S. as of April 27, 2020\",\n",
    "        showlegend = True,\n",
    "        geo = dict(\n",
    "            scope = 'usa',\n",
    "            landcolor = 'rgb(217, 217, 217)'))\n",
    "    \n",
    "    fig_incident.show()\n",
    "\n",
    "incident_rates()"
   ]
  },
  {
   "cell_type": "code",
   "execution_count": null,
   "metadata": {},
   "outputs": [],
   "source": []
  }
 ],
 "metadata": {
  "kernelspec": {
   "display_name": "Python 3 (system-wide)",
   "language": "python",
   "name": "python3"
  },
  "language_info": {
   "codemirror_mode": {
    "name": "ipython",
    "version": 3
   },
   "file_extension": ".py",
   "mimetype": "text/x-python",
   "name": "python",
   "nbconvert_exporter": "python",
   "pygments_lexer": "ipython3",
   "version": "3.6.9"
  }
 },
 "nbformat": 4,
 "nbformat_minor": 4
}
